{
 "cells": [
  {
   "cell_type": "code",
   "execution_count": 4,
   "metadata": {},
   "outputs": [],
   "source": [
    "import pandas as pd\n",
    "import pandas as pd\n",
    "import numpy as np\n",
    "import pymc as pm\n",
    "import arviz as az\n",
    "\n"
   ]
  },
  {
   "cell_type": "code",
   "execution_count": 5,
   "metadata": {},
   "outputs": [],
   "source": [
    "# Load your dataset\n",
    "data = pd.read_csv('/media/momty/Extreme SSD/svc/2023/2023_prospect_params_GT (copy).csv')\n",
    "\n",
    "# Ensure the dataset includes 'CHL', 'CAR', 'ANT', 'CBC', 'Nstruct' and any other parameters for conditioning\n"
   ]
  },
  {
   "cell_type": "code",
   "execution_count": 6,
   "metadata": {},
   "outputs": [],
   "source": [
    "import pymc as pm\n",
    "import numpy as np\n",
    "import pandas as pd\n",
    "\n",
    "def bayesian_regression(data, predictors, target='CHL'):\n",
    "    with pm.Model() as model:\n",
    "        # Priors for unknown model parameters\n",
    "        intercept = pm.Normal('Intercept', mu=0, sigma=10)\n",
    "        slopes = pm.Normal('slopes', mu=0, sigma=10, shape=len(predictors))\n",
    "\n",
    "        # Convert predictors data to a shared variable\n",
    "        predictors_data = pm.Data('predictors_data', data[predictors].values)\n",
    "\n",
    "        # Constructing the linear model expression\n",
    "        mu = intercept + pm.math.dot(predictors_data, slopes)\n",
    "\n",
    "        # Standard deviation is a positive parameter; use HalfNormal\n",
    "        sigma = pm.HalfNormal('sigma', sigma=1)\n",
    "\n",
    "        # Likelihood (sampling distribution) of observations\n",
    "        y_obs_data = pm.Data('y_obs_data', data[target].values)\n",
    "        y_obs = pm.Normal('y_obs', mu=mu, sigma=sigma, observed=y_obs_data)\n",
    "\n",
    "        # MCMC sampling\n",
    "        trace = pm.sample(1000, return_inferencedata=True, target_accept=0.95)\n",
    "\n",
    "    return model, trace\n"
   ]
  },
  {
   "cell_type": "code",
   "execution_count": 7,
   "metadata": {},
   "outputs": [],
   "source": [
    "def make_predictions(model, trace, new_predictors, new_target):\n",
    "    with model:\n",
    "        # Update the model's observed data\n",
    "        pm.set_data({'predictors_data': new_predictors, 'y_obs_data': new_target})\n",
    "\n",
    "        # Generate posterior predictive samples\n",
    "        post_pred = pm.sample_posterior_predictive(trace)\n",
    "        \n",
    "        # Correctly accessing the predictions\n",
    "        predictions = post_pred.posterior_predictive['y_obs'].values\n",
    "\n",
    "        return predictions\n",
    "\n",
    "\n"
   ]
  },
  {
   "cell_type": "code",
   "execution_count": 8,
   "metadata": {},
   "outputs": [
    {
     "name": "stderr",
     "output_type": "stream",
     "text": [
      "Auto-assigning NUTS sampler...\n",
      "Initializing NUTS using jitter+adapt_diag...\n",
      "Multiprocess sampling (4 chains in 4 jobs)\n",
      "NUTS: [Intercept, slopes, sigma]\n"
     ]
    },
    {
     "data": {
      "text/html": [
       "<pre style=\"white-space:pre;overflow-x:auto;line-height:normal;font-family:Menlo,'DejaVu Sans Mono',consolas,'Courier New',monospace\">/home/momty/miniconda3/envs/pymc_env/lib/python3.12/site-packages/rich/live.py:231: UserWarning: install \n",
       "\"ipywidgets\" for Jupyter support\n",
       "  warnings.warn('install \"ipywidgets\" for Jupyter support')\n",
       "</pre>\n"
      ],
      "text/plain": [
       "/home/momty/miniconda3/envs/pymc_env/lib/python3.12/site-packages/rich/live.py:231: UserWarning: install \n",
       "\"ipywidgets\" for Jupyter support\n",
       "  warnings.warn('install \"ipywidgets\" for Jupyter support')\n"
      ]
     },
     "metadata": {},
     "output_type": "display_data"
    },
    {
     "data": {
      "text/html": [
       "<pre style=\"white-space:pre;overflow-x:auto;line-height:normal;font-family:Menlo,'DejaVu Sans Mono',consolas,'Courier New',monospace\"></pre>\n"
      ],
      "text/plain": []
     },
     "metadata": {},
     "output_type": "display_data"
    },
    {
     "data": {
      "text/html": [
       "<pre style=\"white-space:pre;overflow-x:auto;line-height:normal;font-family:Menlo,'DejaVu Sans Mono',consolas,'Courier New',monospace\">\n",
       "</pre>\n"
      ],
      "text/plain": [
       "\n"
      ]
     },
     "metadata": {},
     "output_type": "display_data"
    },
    {
     "name": "stderr",
     "output_type": "stream",
     "text": [
      "Sampling 4 chains for 1_000 tune and 1_000 draw iterations (4_000 + 4_000 draws total) took 15 seconds.\n",
      "Sampling: [y_obs]\n"
     ]
    },
    {
     "data": {
      "text/html": [
       "<pre style=\"white-space:pre;overflow-x:auto;line-height:normal;font-family:Menlo,'DejaVu Sans Mono',consolas,'Courier New',monospace\">/home/momty/miniconda3/envs/pymc_env/lib/python3.12/site-packages/rich/live.py:231: UserWarning: install \n",
       "\"ipywidgets\" for Jupyter support\n",
       "  warnings.warn('install \"ipywidgets\" for Jupyter support')\n",
       "</pre>\n"
      ],
      "text/plain": [
       "/home/momty/miniconda3/envs/pymc_env/lib/python3.12/site-packages/rich/live.py:231: UserWarning: install \n",
       "\"ipywidgets\" for Jupyter support\n",
       "  warnings.warn('install \"ipywidgets\" for Jupyter support')\n"
      ]
     },
     "metadata": {},
     "output_type": "display_data"
    },
    {
     "data": {
      "text/html": [
       "<pre style=\"white-space:pre;overflow-x:auto;line-height:normal;font-family:Menlo,'DejaVu Sans Mono',consolas,'Courier New',monospace\"></pre>\n"
      ],
      "text/plain": []
     },
     "metadata": {},
     "output_type": "display_data"
    },
    {
     "data": {
      "text/html": [
       "<pre style=\"white-space:pre;overflow-x:auto;line-height:normal;font-family:Menlo,'DejaVu Sans Mono',consolas,'Courier New',monospace\">\n",
       "</pre>\n"
      ],
      "text/plain": [
       "\n"
      ]
     },
     "metadata": {},
     "output_type": "display_data"
    },
    {
     "name": "stdout",
     "output_type": "stream",
     "text": [
      "Predicted Mean CHL: 37.76100348275859\n",
      "Prediction Intervals for CHL: [31.39314042 44.19190611]\n"
     ]
    }
   ],
   "source": [
    "# Fit the model with existing data\n",
    "model, trace = bayesian_regression(data, predictors=['CAR', 'ANT', 'CBC', 'Nstruct'])\n",
    "\n",
    "# Example new data for prediction\n",
    "new_predictors = np.array([[7.6, 4.18, 0.004, 2.22]])  # Real values to be used\n",
    "new_target = np.array([0])  # Dummy target value\n",
    "\n",
    "# Make predictions with new data\n",
    "predictions = make_predictions(model, trace, new_predictors, new_target)\n",
    "\n",
    "# Calculate prediction statistics\n",
    "predicted_mean = np.mean(predictions)\n",
    "prediction_intervals = np.percentile(predictions, [5, 95])\n",
    "\n",
    "print(\"Predicted Mean CHL:\", predicted_mean)\n",
    "print(\"Prediction Intervals for CHL:\", prediction_intervals)\n",
    "\n"
   ]
  }
 ],
 "metadata": {
  "kernelspec": {
   "display_name": "pymc_env",
   "language": "python",
   "name": "python3"
  },
  "language_info": {
   "codemirror_mode": {
    "name": "ipython",
    "version": 3
   },
   "file_extension": ".py",
   "mimetype": "text/x-python",
   "name": "python",
   "nbconvert_exporter": "python",
   "pygments_lexer": "ipython3",
   "version": "3.12.4"
  },
  "orig_nbformat": 4,
  "vscode": {
   "interpreter": {
    "hash": "5e4a6457439febf61725ab8605bcc1d892550fbc08b4126c32ef73dad27556e1"
   }
  }
 },
 "nbformat": 4,
 "nbformat_minor": 2
}
